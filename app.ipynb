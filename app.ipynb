{
 "cells": [
  {
   "cell_type": "code",
   "execution_count": 5,
   "id": "184902e8",
   "metadata": {},
   "outputs": [
    {
     "name": "stdout",
     "output_type": "stream",
     "text": [
      "Logged in user: admin@shakti.work\n"
     ]
    }
   ],
   "source": [
    "from azure.identity import InteractiveBrowserCredential\n",
    "from itertools import chain, repeat\n",
    "import struct\n",
    "import pyodbc\n",
    "import pandas as pd\n",
    "import requests\n",
    "\n",
    "\n",
    "# Authenticate using browser (same as SSMS MFA)\n",
    "credential = InteractiveBrowserCredential()\n",
    "token = credential.get_token(\"https://database.windows.net//.default\")\n",
    "\n",
    "# Encode token for ODBC\n",
    "token_bytes = bytes(token.token, \"UTF-8\")\n",
    "encoded = bytes(chain.from_iterable(zip(token_bytes, repeat(0))))\n",
    "packed_token = struct.pack(\"<i\", len(encoded)) + encoded\n",
    "attrs = {1256: packed_token}  # SQL_COPT_SS_ACCESS_TOKEN\n",
    "\n",
    "\n",
    "import jwt  # PyJWT\n",
    "#from azure.identity import InteractiveBrowserCredential\n",
    "\n",
    "# Authenticate and get token for Microsoft Graph\n",
    "#credential = InteractiveBrowserCredential()\n",
    "graph_token = credential.get_token(\"https://graph.microsoft.com/.default\")\n",
    "\n",
    "# Decode JWT token to extract claims\n",
    "decoded = jwt.decode(graph_token.token, options={\"verify_signature\": False})\n",
    "upn = decoded.get(\"upn\") or decoded.get(\"preferred_username\")\n",
    "\n",
    "print(\"Logged in user:\", upn)\n"
   ]
  },
  {
   "cell_type": "code",
   "execution_count": null,
   "id": "38118280",
   "metadata": {},
   "outputs": [
    {
     "name": "stdout",
     "output_type": "stream",
     "text": [
      "{'error': {'code': 'InvalidAuthenticationToken', 'message': 'Access token validation failure. Invalid audience.', 'innerError': {'date': '2025-08-19T11:18:33', 'request-id': '993a591e-ae8d-46af-bd51-da40823ebe7e', 'client-request-id': '993a591e-ae8d-46af-bd51-da40823ebe7e'}}}\n"
     ]
    }
   ],
   "source": [
    "\n",
    "\n",
    "\n"
   ]
  },
  {
   "cell_type": "code",
   "execution_count": 10,
   "id": "81a7f1fc",
   "metadata": {},
   "outputs": [],
   "source": [
    "def connection():\n",
    "    server = \"vv2iwx4oxwaebpogsiees6rd6q-3y5wf3jqtzmelnjb6zdd2nks2i.datawarehouse.fabric.microsoft.com\"  # Replace with your actual server name\n",
    "    database = \"Food Waste Management\"\n",
    "\n",
    "    connection_string = f\"\"\"\n",
    "    Driver={{ODBC Driver 17 for SQL Server}};\n",
    "    Server={server};\n",
    "    Database={database};\n",
    "    Encrypt=Yes;\n",
    "    TrustServerCertificate=No;\n",
    "    \"\"\"\n",
    "    return connection_string\n"
   ]
  },
  {
   "cell_type": "code",
   "execution_count": 11,
   "id": "824f4579",
   "metadata": {},
   "outputs": [
    {
     "name": "stdout",
     "output_type": "stream",
     "text": [
      "('claims_data', 1381579960, None, 1, 0, 'U ', 'USER_TABLE', datetime.datetime(2025, 8, 15, 14, 58, 47, 850000), datetime.datetime(2025, 8, 16, 8, 16, 18, 630000), False, False, False, 0, None, 9, False, True, False, False, False, False, False, 0, False, False, 0, 'TABLE', False, False, 0, 'SCHEMA_AND_DATA', 0, 'NON_TEMPORAL_TABLE', None, False, False, None, None, None, False, False, -1, -1, 'INFINITE', 0, 'NON_LEDGER_TABLE', None, False)\n",
      "('providers_data', 1413580074, None, 1, 0, 'U ', 'USER_TABLE', datetime.datetime(2025, 8, 15, 15, 4, 49, 630000), datetime.datetime(2025, 8, 16, 9, 29, 17, 650000), False, False, False, 0, None, 7, False, True, False, False, False, False, False, 0, False, False, 0, 'TABLE', False, False, 0, 'SCHEMA_AND_DATA', 0, 'NON_TEMPORAL_TABLE', None, False, False, None, None, None, False, False, -1, -1, 'INFINITE', 0, 'NON_LEDGER_TABLE', None, False)\n",
      "('receivers_data', 1429580131, None, 1, 0, 'U ', 'USER_TABLE', datetime.datetime(2025, 8, 15, 15, 6, 43, 357000), datetime.datetime(2025, 8, 16, 9, 38, 38, 480000), False, False, False, 0, None, 6, False, True, False, False, False, False, False, 0, False, False, 0, 'TABLE', False, False, 0, 'SCHEMA_AND_DATA', 0, 'NON_TEMPORAL_TABLE', None, False, False, None, None, None, False, False, -1, -1, 'INFINITE', 0, 'NON_LEDGER_TABLE', None, False)\n",
      "('food_listings_data', 1893581784, None, 1, 0, 'U ', 'USER_TABLE', datetime.datetime(2025, 8, 16, 8, 50, 2, 307000), datetime.datetime(2025, 8, 16, 8, 53, 17, 180000), False, False, False, 0, None, 9, False, True, False, False, False, False, False, 0, False, False, 0, 'TABLE', False, False, 0, 'SCHEMA_AND_DATA', 0, 'NON_TEMPORAL_TABLE', None, False, False, None, None, None, False, False, -1, -1, 'INFINITE', 0, 'NON_LEDGER_TABLE', None, False)\n"
     ]
    }
   ],
   "source": [
    "conn = pyodbc.connect(connection(), attrs_before=attrs)\n",
    "cursor = conn.cursor()\n",
    "\n",
    "# Example query\n",
    "cursor.execute(\"SELECT TOP 10 * FROM sys.tables\")\n",
    "for row in cursor.fetchall():\n",
    "    print(row)\n",
    "\n",
    "cursor.close()\n",
    "conn.close()\n"
   ]
  },
  {
   "cell_type": "code",
   "execution_count": 4,
   "id": "d291ca0e",
   "metadata": {},
   "outputs": [],
   "source": [
    "conn = pyodbc.connect(connection_string, attrs_before=attrs)\n",
    "cursor = conn.cursor()\n",
    "\n",
    "# Example query\n",
    "cursor.execute(\" SELECT TABLE_SCHEMA, TABLE_NAME FROM INFORMATION_SCHEMA.TABLES WHERE TABLE_TYPE = 'BASE TABLE'\")\n",
    "rows = cursor.fetchall()\n",
    "columns = [column[0] for column in cursor.description]\n",
    "df = pd.DataFrame.from_records(rows, columns=columns)\n",
    "cursor.close()\n",
    "conn.close()"
   ]
  },
  {
   "cell_type": "code",
   "execution_count": null,
   "id": "137f957a",
   "metadata": {},
   "outputs": [
    {
     "ename": "NameError",
     "evalue": "name 'table_info' is not defined",
     "output_type": "error",
     "traceback": [
      "\u001b[1;31m---------------------------------------------------------------------------\u001b[0m",
      "\u001b[1;31mNameError\u001b[0m                                 Traceback (most recent call last)",
      "Cell \u001b[1;32mIn[5], line 5\u001b[0m\n\u001b[0;32m      2\u001b[0m cursor \u001b[38;5;241m=\u001b[39m conn\u001b[38;5;241m.\u001b[39mcursor()\n\u001b[0;32m      4\u001b[0m \u001b[38;5;66;03m#schema = \"dbo\"\u001b[39;00m\n\u001b[1;32m----> 5\u001b[0m \u001b[38;5;28;01mfor\u001b[39;00m schema, table \u001b[38;5;129;01min\u001b[39;00m table_info:\n\u001b[0;32m      6\u001b[0m     \u001b[38;5;66;03m# Example query\u001b[39;00m\n\u001b[0;32m      7\u001b[0m     cursor\u001b[38;5;241m.\u001b[39mexecute(\u001b[38;5;124mf\u001b[39m\u001b[38;5;124m\"\u001b[39m\u001b[38;5;124m SELECT COLUMN_NAME, DATA_TYPE FROM INFORMATION_SCHEMA.COLUMNS WHERE TABLE_SCHEMA = \u001b[39m\u001b[38;5;124m'\u001b[39m\u001b[38;5;132;01m{\u001b[39;00mschema\u001b[38;5;132;01m}\u001b[39;00m\u001b[38;5;124m'\u001b[39m\u001b[38;5;124m AND TABLE_NAME = \u001b[39m\u001b[38;5;124m'\u001b[39m\u001b[38;5;132;01m{\u001b[39;00mtable\u001b[38;5;132;01m}\u001b[39;00m\u001b[38;5;124m'\u001b[39m\u001b[38;5;124m \u001b[39m\u001b[38;5;124m\"\u001b[39m)\n\u001b[0;32m      8\u001b[0m     \u001b[38;5;28;01mfor\u001b[39;00m row \u001b[38;5;129;01min\u001b[39;00m cursor\u001b[38;5;241m.\u001b[39mfetchall():\n",
      "\u001b[1;31mNameError\u001b[0m: name 'table_info' is not defined"
     ]
    }
   ],
   "source": [
    "conn = pyodbc.connect(connection_string, attrs_before=attrs)\n",
    "cursor = conn.cursor()\n",
    "\n",
    "#schema = \"dbo\"\n",
    "for schema, table in table_info:\n",
    "    # Example query\n",
    "    cursor.execute(f\" SELECT COLUMN_NAME, DATA_TYPE FROM INFORMATION_SCHEMA.COLUMNS WHERE TABLE_SCHEMA = '{schema}' AND TABLE_NAME = '{table}' \")\n",
    "    for row in cursor.fetchall():\n",
    "        print(row)\n",
    "\n",
    "    cursor.close()\n",
    "    conn.close()"
   ]
  },
  {
   "cell_type": "code",
   "execution_count": 13,
   "id": "45216cce",
   "metadata": {},
   "outputs": [
    {
     "name": "stdout",
     "output_type": "stream",
     "text": [
      "            TABLE_NAME    COLUMN_NAME  DATA_TYPE\n",
      "0          claims_data         Status    varchar\n",
      "1          claims_data      Timestamp  datetime2\n",
      "2          claims_data       Claim_ID        int\n",
      "3          claims_data        Food_ID        int\n",
      "4          claims_data    Receiver_ID        int\n",
      "5   food_listings_data        Food_ID        int\n",
      "6   food_listings_data      Food_Name    varchar\n",
      "7   food_listings_data       Quantity        int\n",
      "8   food_listings_data    Expiry_Date       date\n",
      "9   food_listings_data    Provider_ID        int\n",
      "10  food_listings_data  Provider_Type    varchar\n",
      "11  food_listings_data       Location    varchar\n",
      "12  food_listings_data      Food_Type    varchar\n",
      "13  food_listings_data      Meal_Type    varchar\n",
      "14      providers_data           Name    varchar\n",
      "15      providers_data           Type    varchar\n",
      "16      providers_data        Address    varchar\n",
      "17      providers_data           City    varchar\n",
      "18      providers_data        Contact    varchar\n",
      "19      providers_data    Provider_ID        int\n",
      "20      receivers_data           Name    varchar\n",
      "21      receivers_data           Type    varchar\n",
      "22      receivers_data           City    varchar\n",
      "23      receivers_data        Contact    varchar\n",
      "24      receivers_data    Receiver_ID        int\n"
     ]
    }
   ],
   "source": [
    "conn = pyodbc.connect(connection(), attrs_before=attrs)\n",
    "cursor = conn.cursor()\n",
    "\n",
    "# Example query\n",
    "query = \"SELECT TABLE_NAME, COLUMN_NAME, DATA_TYPE FROM INFORMATION_SCHEMA.COLUMNS WHERE TABLE_SCHEMA = 'dbo' AND TABLE_NAME in (SELECT TABLE_NAME FROM INFORMATION_SCHEMA.TABLES WHERE TABLE_TYPE = 'BASE TABLE')\"\n",
    "cursor.execute(query)\n",
    "rows = cursor.fetchall()\n",
    "columns = [column[0] for column in cursor.description]\n",
    "df = pd.DataFrame.from_records(rows, columns=columns)\n",
    "print(df)\n",
    "cursor.close()\n",
    "conn.close()"
   ]
  },
  {
   "cell_type": "code",
   "execution_count": 14,
   "id": "b6d03022",
   "metadata": {},
   "outputs": [
    {
     "name": "stdout",
     "output_type": "stream",
     "text": [
      "         CurrentUser\n",
      "0  admin@shakti.work\n"
     ]
    }
   ],
   "source": [
    "conn = pyodbc.connect(connection(), attrs_before=attrs)\n",
    "cursor = conn.cursor()\n",
    "\n",
    "# Example query\n",
    "query = \"SELECT SYSTEM_USER AS CurrentUser;\"\n",
    "cursor.execute(query)\n",
    "rows = cursor.fetchall()\n",
    "columns = [column[0] for column in cursor.description]\n",
    "df = pd.DataFrame.from_records(rows, columns=columns)\n",
    "print(df)\n",
    "cursor.close()\n",
    "conn.close()"
   ]
  }
 ],
 "metadata": {
  "kernelspec": {
   "display_name": "base",
   "language": "python",
   "name": "python3"
  },
  "language_info": {
   "codemirror_mode": {
    "name": "ipython",
    "version": 3
   },
   "file_extension": ".py",
   "mimetype": "text/x-python",
   "name": "python",
   "nbconvert_exporter": "python",
   "pygments_lexer": "ipython3",
   "version": "3.12.7"
  }
 },
 "nbformat": 4,
 "nbformat_minor": 5
}
